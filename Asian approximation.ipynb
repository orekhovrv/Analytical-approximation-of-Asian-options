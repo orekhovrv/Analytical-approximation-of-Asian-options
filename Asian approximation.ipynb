{
 "cells": [
  {
   "cell_type": "code",
   "execution_count": 1,
   "id": "f48c423a",
   "metadata": {},
   "outputs": [],
   "source": [
    "import numpy as np\n",
    "import scipy.stats as sps"
   ]
  },
  {
   "cell_type": "code",
   "execution_count": 2,
   "id": "7fe3a010",
   "metadata": {},
   "outputs": [],
   "source": [
    "K = 80\n",
    "S_0 = 76.9\n",
    "sigma_1 = 0.01\n",
    "sigma_2 = 0.05\n",
    "alpha = 0.02\n",
    "N = 100\n",
    "tenor = 3\n",
    "\n",
    "times = np.ones(N).cumsum() * tenor / N"
   ]
  },
  {
   "cell_type": "code",
   "execution_count": 3,
   "id": "c42a02a0",
   "metadata": {},
   "outputs": [],
   "source": [
    "def rho(i, j):\n",
    "    firstTerm = sigma_1 **2 / 2 / alpha\n",
    "    firstTerm *= np.exp(-alpha * np.abs(times[i] - times[j])) - np.exp(-alpha * (times[i] + times[j]))\n",
    "    \n",
    "    secondTerm = min(times[i], times[j])\n",
    "    secondTerm += (np.exp(-alpha * np.abs(times[i] - times[j])) - np.exp(-alpha * (times[i] + times[j]))) \\\n",
    "        / 2 / alpha\n",
    "    secondTerm -= (1 + np.exp(-alpha * np.abs(times[i] - times[j])) - np.exp(-alpha * times[i]) - np.exp(-alpha * times[j])) \\\n",
    "        / alpha\n",
    "    secondTerm *= sigma_2**2\n",
    "    return firstTerm + secondTerm\n",
    "                                                  \n",
    "def getRhoMatrix():\n",
    "    rhoMatrix = np.zeros((N, N))\n",
    "    for i in range(N):\n",
    "        for j in range(N):\n",
    "            rhoMatrix[i, j] = rho(i, j)\n",
    "    return rhoMatrix\n",
    "\n",
    "def asianCall(): \n",
    "    discount = np.exp(-alpha * tenor)  \n",
    "    firstTerm = -K * sps.norm.cdf(y_2) + U_1 * sps.norm.cdf(y_1)\n",
    "\n",
    "    a = (rhoMatrix.sum() / N**2)**2\n",
    "    b = 0\n",
    "    for i in range(N):\n",
    "        b += (np.repeat([rhoMatrix[i]], N, axis=0) * rhoMatrix).sum()     \n",
    "    b = 2 * b / N**3\n",
    "    secondTerm = (p + dp / 2) * K * (a - b)\n",
    "    \n",
    "    return  (firstTerm + secondTerm) #* discount\n",
    "\n",
    "def asianPut():\n",
    "    discount = np.exp(-alpha * tenor)  \n",
    "    put = asianCall() + K - S_0 / discount\n",
    "    return put #* discount"
   ]
  },
  {
   "cell_type": "code",
   "execution_count": 4,
   "id": "26132fe2",
   "metadata": {},
   "outputs": [],
   "source": [
    "rhoMatrix = getRhoMatrix()\n",
    "\n",
    "U_1 = S_0\n",
    "U_2 = (S_0 / N)**2 * np.exp(rhoMatrix).sum()\n",
    "\n",
    "y = np.log(K) # Ok   \n",
    "y_1 = (np.log(U_2) / 2 - y) / np.sqrt(np.log(U_2) - 2 * np.log(U_1))\n",
    "y_2 = (2 * np.log(U_1) - np.log(U_2) / 2 - y) \\\n",
    "    / np.sqrt(np.log(U_2) - 2 * np.log(U_1))\n",
    "\n",
    "p = np.exp(-y_2**2 / 2) / np.sqrt(2 * np.pi) / (y_1 - y_2) # Ok                                                   \n",
    "dp = p * y_2 / (y_1 - y_2) # Ok   "
   ]
  },
  {
   "cell_type": "code",
   "execution_count": 5,
   "id": "10d4d6f7",
   "metadata": {},
   "outputs": [
    {
     "data": {
      "text/plain": [
       "8.977525057843475e-06"
      ]
     },
     "execution_count": 5,
     "metadata": {},
     "output_type": "execute_result"
    }
   ],
   "source": [
    "asianCall()"
   ]
  },
  {
   "cell_type": "code",
   "execution_count": 6,
   "id": "e14c5c57",
   "metadata": {},
   "outputs": [
    {
     "data": {
      "text/plain": [
       "-1.6552214518131052"
      ]
     },
     "execution_count": 6,
     "metadata": {},
     "output_type": "execute_result"
    }
   ],
   "source": [
    "asianPut()"
   ]
  },
  {
   "cell_type": "code",
   "execution_count": null,
   "id": "8f4ea9c1",
   "metadata": {},
   "outputs": [],
   "source": []
  },
  {
   "cell_type": "code",
   "execution_count": 9,
   "id": "b6060a49",
   "metadata": {},
   "outputs": [
    {
     "data": {
      "text/plain": [
       "0.014076186191435944"
      ]
     },
     "execution_count": 9,
     "metadata": {},
     "output_type": "execute_result"
    }
   ],
   "source": [
    "p"
   ]
  },
  {
   "cell_type": "code",
   "execution_count": 17,
   "id": "c6fd4a75",
   "metadata": {},
   "outputs": [
    {
     "data": {
      "text/plain": [
       "0.014076186191436208"
      ]
     },
     "execution_count": 17,
     "metadata": {},
     "output_type": "execute_result"
    }
   ],
   "source": [
    "m = 2 * np.log(U_1) - np.log(U_2) / 2\n",
    "v = np.log(U_2) - 2 * np.log(U_1)\n",
    "sps.norm.pdf(y, loc=m, scale=np.sqrt(v))"
   ]
  },
  {
   "cell_type": "code",
   "execution_count": null,
   "id": "cc4f1778",
   "metadata": {},
   "outputs": [],
   "source": []
  },
  {
   "cell_type": "code",
   "execution_count": null,
   "id": "2c368b3c",
   "metadata": {},
   "outputs": [],
   "source": []
  },
  {
   "cell_type": "markdown",
   "id": "bdd62c08",
   "metadata": {},
   "source": [
    "Странный ответ. Должно быть примерно 0.35"
   ]
  },
  {
   "cell_type": "code",
   "execution_count": 30,
   "id": "86aab68a",
   "metadata": {},
   "outputs": [
    {
     "data": {
      "text/plain": [
       "5.956055442943816e-06"
      ]
     },
     "execution_count": 30,
     "metadata": {},
     "output_type": "execute_result"
    }
   ],
   "source": [
    "asianCall()"
   ]
  }
 ],
 "metadata": {
  "kernelspec": {
   "display_name": "Python 3",
   "language": "python",
   "name": "python3"
  },
  "language_info": {
   "codemirror_mode": {
    "name": "ipython",
    "version": 3
   },
   "file_extension": ".py",
   "mimetype": "text/x-python",
   "name": "python",
   "nbconvert_exporter": "python",
   "pygments_lexer": "ipython3",
   "version": "3.9.1"
  }
 },
 "nbformat": 4,
 "nbformat_minor": 5
}
